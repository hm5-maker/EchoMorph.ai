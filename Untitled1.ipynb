{
  "nbformat": 4,
  "nbformat_minor": 0,
  "metadata": {
    "colab": {
      "provenance": [],
      "gpuType": "T4",
      "authorship_tag": "ABX9TyOO4cd3Q5FFVO96hlDoJJUU",
      "include_colab_link": true
    },
    "kernelspec": {
      "name": "python3",
      "display_name": "Python 3"
    },
    "language_info": {
      "name": "python"
    },
    "accelerator": "GPU"
  },
  "cells": [
    {
      "cell_type": "markdown",
      "metadata": {
        "id": "view-in-github",
        "colab_type": "text"
      },
      "source": [
        "<a href=\"https://colab.research.google.com/github/hm5-maker/EchoMorph.ai/blob/main/Untitled1.ipynb\" target=\"_parent\"><img src=\"https://colab.research.google.com/assets/colab-badge.svg\" alt=\"Open In Colab\"/></a>"
      ]
    },
    {
      "cell_type": "code",
      "source": [
        "!pip install demucs"
      ],
      "metadata": {
        "colab": {
          "base_uri": "https://localhost:8080/"
        },
        "id": "cRnvAlP_98p4",
        "outputId": "185dd2b3-c1b0-4391-b305-0e0f9f2b38e7"
      },
      "execution_count": 1,
      "outputs": [
        {
          "output_type": "stream",
          "name": "stdout",
          "text": [
            "Requirement already satisfied: demucs in /usr/local/lib/python3.12/dist-packages (4.0.1)\n",
            "Requirement already satisfied: dora-search in /usr/local/lib/python3.12/dist-packages (from demucs) (0.1.12)\n",
            "Requirement already satisfied: einops in /usr/local/lib/python3.12/dist-packages (from demucs) (0.8.1)\n",
            "Requirement already satisfied: julius>=0.2.3 in /usr/local/lib/python3.12/dist-packages (from demucs) (0.2.7)\n",
            "Requirement already satisfied: lameenc>=1.2 in /usr/local/lib/python3.12/dist-packages (from demucs) (1.8.1)\n",
            "Requirement already satisfied: openunmix in /usr/local/lib/python3.12/dist-packages (from demucs) (1.3.0)\n",
            "Requirement already satisfied: pyyaml in /usr/local/lib/python3.12/dist-packages (from demucs) (6.0.2)\n",
            "Requirement already satisfied: torch>=1.8.1 in /usr/local/lib/python3.12/dist-packages (from demucs) (2.8.0+cu126)\n",
            "Requirement already satisfied: torchaudio>=0.8 in /usr/local/lib/python3.12/dist-packages (from demucs) (2.8.0+cu126)\n",
            "Requirement already satisfied: tqdm in /usr/local/lib/python3.12/dist-packages (from demucs) (4.67.1)\n",
            "Requirement already satisfied: filelock in /usr/local/lib/python3.12/dist-packages (from torch>=1.8.1->demucs) (3.19.1)\n",
            "Requirement already satisfied: typing-extensions>=4.10.0 in /usr/local/lib/python3.12/dist-packages (from torch>=1.8.1->demucs) (4.14.1)\n",
            "Requirement already satisfied: setuptools in /usr/local/lib/python3.12/dist-packages (from torch>=1.8.1->demucs) (75.2.0)\n",
            "Requirement already satisfied: sympy>=1.13.3 in /usr/local/lib/python3.12/dist-packages (from torch>=1.8.1->demucs) (1.13.3)\n",
            "Requirement already satisfied: networkx in /usr/local/lib/python3.12/dist-packages (from torch>=1.8.1->demucs) (3.5)\n",
            "Requirement already satisfied: jinja2 in /usr/local/lib/python3.12/dist-packages (from torch>=1.8.1->demucs) (3.1.6)\n",
            "Requirement already satisfied: fsspec in /usr/local/lib/python3.12/dist-packages (from torch>=1.8.1->demucs) (2025.3.0)\n",
            "Requirement already satisfied: nvidia-cuda-nvrtc-cu12==12.6.77 in /usr/local/lib/python3.12/dist-packages (from torch>=1.8.1->demucs) (12.6.77)\n",
            "Requirement already satisfied: nvidia-cuda-runtime-cu12==12.6.77 in /usr/local/lib/python3.12/dist-packages (from torch>=1.8.1->demucs) (12.6.77)\n",
            "Requirement already satisfied: nvidia-cuda-cupti-cu12==12.6.80 in /usr/local/lib/python3.12/dist-packages (from torch>=1.8.1->demucs) (12.6.80)\n",
            "Requirement already satisfied: nvidia-cudnn-cu12==9.10.2.21 in /usr/local/lib/python3.12/dist-packages (from torch>=1.8.1->demucs) (9.10.2.21)\n",
            "Requirement already satisfied: nvidia-cublas-cu12==12.6.4.1 in /usr/local/lib/python3.12/dist-packages (from torch>=1.8.1->demucs) (12.6.4.1)\n",
            "Requirement already satisfied: nvidia-cufft-cu12==11.3.0.4 in /usr/local/lib/python3.12/dist-packages (from torch>=1.8.1->demucs) (11.3.0.4)\n",
            "Requirement already satisfied: nvidia-curand-cu12==10.3.7.77 in /usr/local/lib/python3.12/dist-packages (from torch>=1.8.1->demucs) (10.3.7.77)\n",
            "Requirement already satisfied: nvidia-cusolver-cu12==11.7.1.2 in /usr/local/lib/python3.12/dist-packages (from torch>=1.8.1->demucs) (11.7.1.2)\n",
            "Requirement already satisfied: nvidia-cusparse-cu12==12.5.4.2 in /usr/local/lib/python3.12/dist-packages (from torch>=1.8.1->demucs) (12.5.4.2)\n",
            "Requirement already satisfied: nvidia-cusparselt-cu12==0.7.1 in /usr/local/lib/python3.12/dist-packages (from torch>=1.8.1->demucs) (0.7.1)\n",
            "Requirement already satisfied: nvidia-nccl-cu12==2.27.3 in /usr/local/lib/python3.12/dist-packages (from torch>=1.8.1->demucs) (2.27.3)\n",
            "Requirement already satisfied: nvidia-nvtx-cu12==12.6.77 in /usr/local/lib/python3.12/dist-packages (from torch>=1.8.1->demucs) (12.6.77)\n",
            "Requirement already satisfied: nvidia-nvjitlink-cu12==12.6.85 in /usr/local/lib/python3.12/dist-packages (from torch>=1.8.1->demucs) (12.6.85)\n",
            "Requirement already satisfied: nvidia-cufile-cu12==1.11.1.6 in /usr/local/lib/python3.12/dist-packages (from torch>=1.8.1->demucs) (1.11.1.6)\n",
            "Requirement already satisfied: triton==3.4.0 in /usr/local/lib/python3.12/dist-packages (from torch>=1.8.1->demucs) (3.4.0)\n",
            "Requirement already satisfied: omegaconf in /usr/local/lib/python3.12/dist-packages (from dora-search->demucs) (2.3.0)\n",
            "Requirement already satisfied: retrying in /usr/local/lib/python3.12/dist-packages (from dora-search->demucs) (1.4.2)\n",
            "Requirement already satisfied: submitit in /usr/local/lib/python3.12/dist-packages (from dora-search->demucs) (1.5.3)\n",
            "Requirement already satisfied: treetable in /usr/local/lib/python3.12/dist-packages (from dora-search->demucs) (0.2.5)\n",
            "Requirement already satisfied: numpy in /usr/local/lib/python3.12/dist-packages (from openunmix->demucs) (2.0.2)\n",
            "Requirement already satisfied: mpmath<1.4,>=1.1.0 in /usr/local/lib/python3.12/dist-packages (from sympy>=1.13.3->torch>=1.8.1->demucs) (1.3.0)\n",
            "Requirement already satisfied: MarkupSafe>=2.0 in /usr/local/lib/python3.12/dist-packages (from jinja2->torch>=1.8.1->demucs) (3.0.2)\n",
            "Requirement already satisfied: antlr4-python3-runtime==4.9.* in /usr/local/lib/python3.12/dist-packages (from omegaconf->dora-search->demucs) (4.9.3)\n",
            "Requirement already satisfied: cloudpickle>=1.2.1 in /usr/local/lib/python3.12/dist-packages (from submitit->dora-search->demucs) (3.1.1)\n"
          ]
        }
      ]
    },
    {
      "cell_type": "code",
      "source": [
        "#@title Install dependencies (Torch, Demucs, faster-whisper, etc.)\n",
        "!pip -q install torch torchvision torchaudio --index-url https://download.pytorch.org/whl/cu121\n",
        "!pip -q install demucs faster-whisper ffmpeg-python soundfile pydub\n",
        "!sudo apt-get -y install ffmpeg"
      ],
      "metadata": {
        "colab": {
          "base_uri": "https://localhost:8080/"
        },
        "id": "9JDWnGR2Aln9",
        "outputId": "8036b2ec-6a1f-4148-f7d8-f375f2ac0e92"
      },
      "execution_count": 2,
      "outputs": [
        {
          "output_type": "stream",
          "name": "stdout",
          "text": [
            "Reading package lists... Done\n",
            "Building dependency tree... Done\n",
            "Reading state information... Done\n",
            "ffmpeg is already the newest version (7:4.4.2-0ubuntu0.22.04.1).\n",
            "0 upgraded, 0 newly installed, 0 to remove and 35 not upgraded.\n"
          ]
        }
      ]
    },
    {
      "cell_type": "code",
      "source": [
        "!python demux_mkv.py s03e129_ixPjVR0U.mkv --outdir output --subs"
      ],
      "metadata": {
        "colab": {
          "base_uri": "https://localhost:8080/"
        },
        "id": "BcpddHs1FLXm",
        "outputId": "0068edb5-f6fb-4b0c-8135-a3fa9eec8739"
      },
      "execution_count": 3,
      "outputs": [
        {
          "output_type": "stream",
          "name": "stdout",
          "text": [
            "Extracting video -> s03e129_ixPjVR0U_video_only.mkv\n",
            "ffmpeg version 4.4.2-0ubuntu0.22.04.1 Copyright (c) 2000-2021 the FFmpeg developers\n",
            "  built with gcc 11 (Ubuntu 11.2.0-19ubuntu1)\n",
            "  configuration: --prefix=/usr --extra-version=0ubuntu0.22.04.1 --toolchain=hardened --libdir=/usr/lib/x86_64-linux-gnu --incdir=/usr/include/x86_64-linux-gnu --arch=amd64 --enable-gpl --disable-stripping --enable-gnutls --enable-ladspa --enable-libaom --enable-libass --enable-libbluray --enable-libbs2b --enable-libcaca --enable-libcdio --enable-libcodec2 --enable-libdav1d --enable-libflite --enable-libfontconfig --enable-libfreetype --enable-libfribidi --enable-libgme --enable-libgsm --enable-libjack --enable-libmp3lame --enable-libmysofa --enable-libopenjpeg --enable-libopenmpt --enable-libopus --enable-libpulse --enable-librabbitmq --enable-librubberband --enable-libshine --enable-libsnappy --enable-libsoxr --enable-libspeex --enable-libsrt --enable-libssh --enable-libtheora --enable-libtwolame --enable-libvidstab --enable-libvorbis --enable-libvpx --enable-libwebp --enable-libx265 --enable-libxml2 --enable-libxvid --enable-libzimg --enable-libzmq --enable-libzvbi --enable-lv2 --enable-omx --enable-openal --enable-opencl --enable-opengl --enable-sdl2 --enable-pocketsphinx --enable-librsvg --enable-libmfx --enable-libdc1394 --enable-libdrm --enable-libiec61883 --enable-chromaprint --enable-frei0r --enable-libx264 --enable-shared\n",
            "  libavutil      56. 70.100 / 56. 70.100\n",
            "  libavcodec     58.134.100 / 58.134.100\n",
            "  libavformat    58. 76.100 / 58. 76.100\n",
            "  libavdevice    58. 13.100 / 58. 13.100\n",
            "  libavfilter     7.110.100 /  7.110.100\n",
            "  libswscale      5.  9.100 /  5.  9.100\n",
            "  libswresample   3.  9.100 /  3.  9.100\n",
            "  libpostproc    55.  9.100 / 55.  9.100\n",
            "Input #0, matroska,webm, from 's03e129_ixPjVR0U.mkv':\n",
            "  Metadata:\n",
            "    title           : [AnimeKaizoku] Zatch Bell - 129 - Miraculous New Spell. Dima Buruku. I Am Not a Weakling!.mkv (480p x265 10bit Eng Sub) [dedsec] clideo.com\n",
            "    ENCODER         : Lavf58.76.100\n",
            "  Duration: 00:02:16.45, start: 0.000000, bitrate: 2573 kb/s\n",
            "  Chapters:\n",
            "    Chapter #0:0: start 0.000000, end 136.420000\n",
            "      Metadata:\n",
            "        title           : Episode\n",
            "  Stream #0:0: Video: h264 (High), yuv420p(tv, progressive), 640x480 [SAR 1:1 DAR 4:3], 23.98 fps, 23.98 tbr, 1k tbn, 47.95 tbc (default)\n",
            "    Metadata:\n",
            "      ENCODER         : Lavc58.134.100 libx264\n",
            "      DURATION        : 00:02:16.449000000\n",
            "  Stream #0:1(jpn): Audio: aac (LC), 48000 Hz, stereo, fltp (default)\n",
            "    Metadata:\n",
            "      title           : 2.0 Opus Japanese\n",
            "      BPS             : 61446\n",
            "      BPS-eng         : 61446\n",
            "      DURATION-eng    : 00:23:05.941000000\n",
            "      NUMBER_OF_FRAMES: 32483\n",
            "      NUMBER_OF_FRAMES-eng: 32483\n",
            "      NUMBER_OF_BYTES : 10645165\n",
            "      NUMBER_OF_BYTES-eng: 10645165\n",
            "      _STATISTICS_WRITING_APP: mkvmerge v20.0.0 ('I Am The Sun') 64-bit\n",
            "      _STATISTICS_WRITING_APP-eng: mkvmerge v20.0.0 ('I Am The Sun') 64-bit\n",
            "      _STATISTICS_WRITING_DATE_UTC: 2018-07-08 20:10:07\n",
            "      _STATISTICS_WRITING_DATE_UTC-eng: 2018-07-08 20:10:07\n",
            "      _STATISTICS_TAGS: BPS DURATION NUMBER_OF_FRAMES NUMBER_OF_BYTES\n",
            "      _STATISTICS_TAGS-eng: BPS DURATION NUMBER_OF_FRAMES NUMBER_OF_BYTES\n",
            "      ENCODER         : Lavc58.134.100 aac\n",
            "      DURATION        : 00:02:16.441000000\n",
            "Output #0, matroska, to 'output/s03e129_ixPjVR0U_video_only.mkv':\n",
            "  Metadata:\n",
            "    title           : [AnimeKaizoku] Zatch Bell - 129 - Miraculous New Spell. Dima Buruku. I Am Not a Weakling!.mkv (480p x265 10bit Eng Sub) [dedsec] clideo.com\n",
            "    encoder         : Lavf58.76.100\n",
            "  Chapters:\n",
            "    Chapter #0:0: start 0.000000, end 136.420000\n",
            "      Metadata:\n",
            "        title           : Episode\n",
            "  Stream #0:0: Video: h264 (High) (H264 / 0x34363248), yuv420p(tv, progressive), 640x480 [SAR 1:1 DAR 4:3], q=2-31, 23.98 fps, 23.98 tbr, 1k tbn, 1k tbc (default)\n",
            "    Metadata:\n",
            "      ENCODER         : Lavc58.134.100 libx264\n",
            "      DURATION        : 00:02:16.449000000\n",
            "Stream mapping:\n",
            "  Stream #0:0 -> #0:0 (copy)\n",
            "Press [q] to stop, [?] for help\n",
            "frame= 3270 fps=0.0 q=-1.0 Lsize=   38551kB time=00:02:16.32 bitrate=2316.6kbits/s speed= 876x    \n",
            "video:38525kB audio:0kB subtitle:0kB other streams:0kB global headers:0kB muxing overhead: 0.067777%\n",
            "Extracting audio stream #1 (aac, jpn) -> s03e129_ixPjVR0U_a1_jpn_2.0_Opus_Japanese.m4a\n",
            "ffmpeg version 4.4.2-0ubuntu0.22.04.1 Copyright (c) 2000-2021 the FFmpeg developers\n",
            "  built with gcc 11 (Ubuntu 11.2.0-19ubuntu1)\n",
            "  configuration: --prefix=/usr --extra-version=0ubuntu0.22.04.1 --toolchain=hardened --libdir=/usr/lib/x86_64-linux-gnu --incdir=/usr/include/x86_64-linux-gnu --arch=amd64 --enable-gpl --disable-stripping --enable-gnutls --enable-ladspa --enable-libaom --enable-libass --enable-libbluray --enable-libbs2b --enable-libcaca --enable-libcdio --enable-libcodec2 --enable-libdav1d --enable-libflite --enable-libfontconfig --enable-libfreetype --enable-libfribidi --enable-libgme --enable-libgsm --enable-libjack --enable-libmp3lame --enable-libmysofa --enable-libopenjpeg --enable-libopenmpt --enable-libopus --enable-libpulse --enable-librabbitmq --enable-librubberband --enable-libshine --enable-libsnappy --enable-libsoxr --enable-libspeex --enable-libsrt --enable-libssh --enable-libtheora --enable-libtwolame --enable-libvidstab --enable-libvorbis --enable-libvpx --enable-libwebp --enable-libx265 --enable-libxml2 --enable-libxvid --enable-libzimg --enable-libzmq --enable-libzvbi --enable-lv2 --enable-omx --enable-openal --enable-opencl --enable-opengl --enable-sdl2 --enable-pocketsphinx --enable-librsvg --enable-libmfx --enable-libdc1394 --enable-libdrm --enable-libiec61883 --enable-chromaprint --enable-frei0r --enable-libx264 --enable-shared\n",
            "  libavutil      56. 70.100 / 56. 70.100\n",
            "  libavcodec     58.134.100 / 58.134.100\n",
            "  libavformat    58. 76.100 / 58. 76.100\n",
            "  libavdevice    58. 13.100 / 58. 13.100\n",
            "  libavfilter     7.110.100 /  7.110.100\n",
            "  libswscale      5.  9.100 /  5.  9.100\n",
            "  libswresample   3.  9.100 /  3.  9.100\n",
            "  libpostproc    55.  9.100 / 55.  9.100\n",
            "Input #0, matroska,webm, from 's03e129_ixPjVR0U.mkv':\n",
            "  Metadata:\n",
            "    title           : [AnimeKaizoku] Zatch Bell - 129 - Miraculous New Spell. Dima Buruku. I Am Not a Weakling!.mkv (480p x265 10bit Eng Sub) [dedsec] clideo.com\n",
            "    ENCODER         : Lavf58.76.100\n",
            "  Duration: 00:02:16.45, start: 0.000000, bitrate: 2573 kb/s\n",
            "  Chapters:\n",
            "    Chapter #0:0: start 0.000000, end 136.420000\n",
            "      Metadata:\n",
            "        title           : Episode\n",
            "  Stream #0:0: Video: h264 (High), yuv420p(tv, progressive), 640x480 [SAR 1:1 DAR 4:3], 23.98 fps, 23.98 tbr, 1k tbn, 47.95 tbc (default)\n",
            "    Metadata:\n",
            "      ENCODER         : Lavc58.134.100 libx264\n",
            "      DURATION        : 00:02:16.449000000\n",
            "  Stream #0:1(jpn): Audio: aac (LC), 48000 Hz, stereo, fltp (default)\n",
            "    Metadata:\n",
            "      title           : 2.0 Opus Japanese\n",
            "      BPS             : 61446\n",
            "      BPS-eng         : 61446\n",
            "      DURATION-eng    : 00:23:05.941000000\n",
            "      NUMBER_OF_FRAMES: 32483\n",
            "      NUMBER_OF_FRAMES-eng: 32483\n",
            "      NUMBER_OF_BYTES : 10645165\n",
            "      NUMBER_OF_BYTES-eng: 10645165\n",
            "      _STATISTICS_WRITING_APP: mkvmerge v20.0.0 ('I Am The Sun') 64-bit\n",
            "      _STATISTICS_WRITING_APP-eng: mkvmerge v20.0.0 ('I Am The Sun') 64-bit\n",
            "      _STATISTICS_WRITING_DATE_UTC: 2018-07-08 20:10:07\n",
            "      _STATISTICS_WRITING_DATE_UTC-eng: 2018-07-08 20:10:07\n",
            "      _STATISTICS_TAGS: BPS DURATION NUMBER_OF_FRAMES NUMBER_OF_BYTES\n",
            "      _STATISTICS_TAGS-eng: BPS DURATION NUMBER_OF_FRAMES NUMBER_OF_BYTES\n",
            "      ENCODER         : Lavc58.134.100 aac\n",
            "      DURATION        : 00:02:16.441000000\n",
            "Output #0, ipod, to 'output/s03e129_ixPjVR0U_a1_jpn_2.0_Opus_Japanese.m4a':\n",
            "  Metadata:\n",
            "    title           : [AnimeKaizoku] Zatch Bell - 129 - Miraculous New Spell. Dima Buruku. I Am Not a Weakling!.mkv (480p x265 10bit Eng Sub) [dedsec] clideo.com\n",
            "    encoder         : Lavf58.76.100\n",
            "  Chapters:\n",
            "    Chapter #0:0: start 0.000000, end 136.420000\n",
            "      Metadata:\n",
            "        title           : Episode\n",
            "  Stream #0:0(jpn): Audio: aac (LC) (mp4a / 0x6134706D), 48000 Hz, stereo, fltp (default)\n",
            "    Metadata:\n",
            "      title           : 2.0 Opus Japanese\n",
            "      BPS             : 61446\n",
            "      BPS-eng         : 61446\n",
            "      DURATION-eng    : 00:23:05.941000000\n",
            "      NUMBER_OF_FRAMES: 32483\n",
            "      NUMBER_OF_FRAMES-eng: 32483\n",
            "      NUMBER_OF_BYTES : 10645165\n",
            "      NUMBER_OF_BYTES-eng: 10645165\n",
            "      _STATISTICS_WRITING_APP: mkvmerge v20.0.0 ('I Am The Sun') 64-bit\n",
            "      _STATISTICS_WRITING_APP-eng: mkvmerge v20.0.0 ('I Am The Sun') 64-bit\n",
            "      _STATISTICS_WRITING_DATE_UTC: 2018-07-08 20:10:07\n",
            "      _STATISTICS_WRITING_DATE_UTC-eng: 2018-07-08 20:10:07\n",
            "      _STATISTICS_TAGS: BPS DURATION NUMBER_OF_FRAMES NUMBER_OF_BYTES\n",
            "      _STATISTICS_TAGS-eng: BPS DURATION NUMBER_OF_FRAMES NUMBER_OF_BYTES\n",
            "      ENCODER         : Lavc58.134.100 aac\n",
            "      DURATION        : 00:02:16.441000000\n",
            "Stream mapping:\n",
            "  Stream #0:1 -> #0:0 (copy)\n",
            "Press [q] to stop, [?] for help\n",
            "size=    4302kB time=00:02:16.42 bitrate= 258.3kbits/s speed=2.1e+03x    \n",
            "video:0kB audio:4275kB subtitle:0kB other streams:0kB global headers:0kB muxing overhead: 0.625280%\n",
            "No subtitle streams found or --subs not set.\n",
            "Done.\n"
          ]
        }
      ]
    },
    {
      "cell_type": "code",
      "source": [
        "!apt -y install ffmpeg\n",
        "!pip install -U demucs"
      ],
      "metadata": {
        "colab": {
          "base_uri": "https://localhost:8080/"
        },
        "id": "_kxsvCviHRoJ",
        "outputId": "1224ba69-cbb9-4721-8cd6-9e0700f91538"
      },
      "execution_count": 4,
      "outputs": [
        {
          "output_type": "stream",
          "name": "stdout",
          "text": [
            "Reading package lists... Done\n",
            "Building dependency tree... Done\n",
            "Reading state information... Done\n",
            "ffmpeg is already the newest version (7:4.4.2-0ubuntu0.22.04.1).\n",
            "0 upgraded, 0 newly installed, 0 to remove and 35 not upgraded.\n",
            "Requirement already satisfied: demucs in /usr/local/lib/python3.12/dist-packages (4.0.1)\n",
            "Requirement already satisfied: dora-search in /usr/local/lib/python3.12/dist-packages (from demucs) (0.1.12)\n",
            "Requirement already satisfied: einops in /usr/local/lib/python3.12/dist-packages (from demucs) (0.8.1)\n",
            "Requirement already satisfied: julius>=0.2.3 in /usr/local/lib/python3.12/dist-packages (from demucs) (0.2.7)\n",
            "Requirement already satisfied: lameenc>=1.2 in /usr/local/lib/python3.12/dist-packages (from demucs) (1.8.1)\n",
            "Requirement already satisfied: openunmix in /usr/local/lib/python3.12/dist-packages (from demucs) (1.3.0)\n",
            "Requirement already satisfied: pyyaml in /usr/local/lib/python3.12/dist-packages (from demucs) (6.0.2)\n",
            "Requirement already satisfied: torch>=1.8.1 in /usr/local/lib/python3.12/dist-packages (from demucs) (2.8.0+cu126)\n",
            "Requirement already satisfied: torchaudio>=0.8 in /usr/local/lib/python3.12/dist-packages (from demucs) (2.8.0+cu126)\n",
            "Requirement already satisfied: tqdm in /usr/local/lib/python3.12/dist-packages (from demucs) (4.67.1)\n",
            "Requirement already satisfied: filelock in /usr/local/lib/python3.12/dist-packages (from torch>=1.8.1->demucs) (3.19.1)\n",
            "Requirement already satisfied: typing-extensions>=4.10.0 in /usr/local/lib/python3.12/dist-packages (from torch>=1.8.1->demucs) (4.14.1)\n",
            "Requirement already satisfied: setuptools in /usr/local/lib/python3.12/dist-packages (from torch>=1.8.1->demucs) (75.2.0)\n",
            "Requirement already satisfied: sympy>=1.13.3 in /usr/local/lib/python3.12/dist-packages (from torch>=1.8.1->demucs) (1.13.3)\n",
            "Requirement already satisfied: networkx in /usr/local/lib/python3.12/dist-packages (from torch>=1.8.1->demucs) (3.5)\n",
            "Requirement already satisfied: jinja2 in /usr/local/lib/python3.12/dist-packages (from torch>=1.8.1->demucs) (3.1.6)\n",
            "Requirement already satisfied: fsspec in /usr/local/lib/python3.12/dist-packages (from torch>=1.8.1->demucs) (2025.3.0)\n",
            "Requirement already satisfied: nvidia-cuda-nvrtc-cu12==12.6.77 in /usr/local/lib/python3.12/dist-packages (from torch>=1.8.1->demucs) (12.6.77)\n",
            "Requirement already satisfied: nvidia-cuda-runtime-cu12==12.6.77 in /usr/local/lib/python3.12/dist-packages (from torch>=1.8.1->demucs) (12.6.77)\n",
            "Requirement already satisfied: nvidia-cuda-cupti-cu12==12.6.80 in /usr/local/lib/python3.12/dist-packages (from torch>=1.8.1->demucs) (12.6.80)\n",
            "Requirement already satisfied: nvidia-cudnn-cu12==9.10.2.21 in /usr/local/lib/python3.12/dist-packages (from torch>=1.8.1->demucs) (9.10.2.21)\n",
            "Requirement already satisfied: nvidia-cublas-cu12==12.6.4.1 in /usr/local/lib/python3.12/dist-packages (from torch>=1.8.1->demucs) (12.6.4.1)\n",
            "Requirement already satisfied: nvidia-cufft-cu12==11.3.0.4 in /usr/local/lib/python3.12/dist-packages (from torch>=1.8.1->demucs) (11.3.0.4)\n",
            "Requirement already satisfied: nvidia-curand-cu12==10.3.7.77 in /usr/local/lib/python3.12/dist-packages (from torch>=1.8.1->demucs) (10.3.7.77)\n",
            "Requirement already satisfied: nvidia-cusolver-cu12==11.7.1.2 in /usr/local/lib/python3.12/dist-packages (from torch>=1.8.1->demucs) (11.7.1.2)\n",
            "Requirement already satisfied: nvidia-cusparse-cu12==12.5.4.2 in /usr/local/lib/python3.12/dist-packages (from torch>=1.8.1->demucs) (12.5.4.2)\n",
            "Requirement already satisfied: nvidia-cusparselt-cu12==0.7.1 in /usr/local/lib/python3.12/dist-packages (from torch>=1.8.1->demucs) (0.7.1)\n",
            "Requirement already satisfied: nvidia-nccl-cu12==2.27.3 in /usr/local/lib/python3.12/dist-packages (from torch>=1.8.1->demucs) (2.27.3)\n",
            "Requirement already satisfied: nvidia-nvtx-cu12==12.6.77 in /usr/local/lib/python3.12/dist-packages (from torch>=1.8.1->demucs) (12.6.77)\n",
            "Requirement already satisfied: nvidia-nvjitlink-cu12==12.6.85 in /usr/local/lib/python3.12/dist-packages (from torch>=1.8.1->demucs) (12.6.85)\n",
            "Requirement already satisfied: nvidia-cufile-cu12==1.11.1.6 in /usr/local/lib/python3.12/dist-packages (from torch>=1.8.1->demucs) (1.11.1.6)\n",
            "Requirement already satisfied: triton==3.4.0 in /usr/local/lib/python3.12/dist-packages (from torch>=1.8.1->demucs) (3.4.0)\n",
            "Requirement already satisfied: omegaconf in /usr/local/lib/python3.12/dist-packages (from dora-search->demucs) (2.3.0)\n",
            "Requirement already satisfied: retrying in /usr/local/lib/python3.12/dist-packages (from dora-search->demucs) (1.4.2)\n",
            "Requirement already satisfied: submitit in /usr/local/lib/python3.12/dist-packages (from dora-search->demucs) (1.5.3)\n",
            "Requirement already satisfied: treetable in /usr/local/lib/python3.12/dist-packages (from dora-search->demucs) (0.2.5)\n",
            "Requirement already satisfied: numpy in /usr/local/lib/python3.12/dist-packages (from openunmix->demucs) (2.0.2)\n",
            "Requirement already satisfied: mpmath<1.4,>=1.1.0 in /usr/local/lib/python3.12/dist-packages (from sympy>=1.13.3->torch>=1.8.1->demucs) (1.3.0)\n",
            "Requirement already satisfied: MarkupSafe>=2.0 in /usr/local/lib/python3.12/dist-packages (from jinja2->torch>=1.8.1->demucs) (3.0.2)\n",
            "Requirement already satisfied: antlr4-python3-runtime==4.9.* in /usr/local/lib/python3.12/dist-packages (from omegaconf->dora-search->demucs) (4.9.3)\n",
            "Requirement already satisfied: cloudpickle>=1.2.1 in /usr/local/lib/python3.12/dist-packages (from submitit->dora-search->demucs) (3.1.1)\n"
          ]
        }
      ]
    },
    {
      "cell_type": "code",
      "source": [
        "!demucs -n mdx_extra_q -o /content/separated \"/content/output/s03e129_ixPjVR0U_a1_jpn_2.0_Opus_Japanese.m4a\""
      ],
      "metadata": {
        "colab": {
          "base_uri": "https://localhost:8080/"
        },
        "id": "B-fWq9CWIhSR",
        "outputId": "849ca166-107a-4dba-a6a2-9174c2177631"
      },
      "execution_count": 5,
      "outputs": [
        {
          "output_type": "stream",
          "name": "stdout",
          "text": [
            "Selected model is a bag of 4 models. You will see that many progress bars per track.\n",
            "Separated tracks will be stored in /content/separated/mdx_extra_q\n",
            "Separating track /content/output/s03e129_ixPjVR0U_a1_jpn_2.0_Opus_Japanese.m4a\n",
            "100%|████████████████████████████████████████████████████████████████████████| 165.0/165.0 [00:03<00:00, 43.30seconds/s]\n",
            "100%|████████████████████████████████████████████████████████████████████████| 165.0/165.0 [00:03<00:00, 47.78seconds/s]\n",
            "100%|████████████████████████████████████████████████████████████████████████| 165.0/165.0 [00:03<00:00, 47.11seconds/s]\n",
            "100%|████████████████████████████████████████████████████████████████████████| 165.0/165.0 [00:03<00:00, 49.47seconds/s]\n",
            "/usr/local/lib/python3.12/dist-packages/torchaudio/_backend/utils.py:337: UserWarning: In 2.9, this function's implementation will be changed to use torchaudio.save_with_torchcodec` under the hood. Some parameters like format, encoding, bits_per_sample, buffer_size, and ``backend`` will be ignored. We recommend that you port your code to rely directly on TorchCodec's encoder instead: https://docs.pytorch.org/torchcodec/stable/generated/torchcodec.encoders.AudioEncoder\n",
            "  warnings.warn(\n",
            "/usr/local/lib/python3.12/dist-packages/torchaudio/_backend/ffmpeg.py:247: UserWarning: torio.io._streaming_media_encoder.StreamingMediaEncoder has been deprecated. This deprecation is part of a large refactoring effort to transition TorchAudio into a maintenance phase. The decoding and encoding capabilities of PyTorch for both audio and video are being consolidated into TorchCodec. Please see https://github.com/pytorch/audio/issues/3902 for more information. It will be removed from the 2.9 release. \n",
            "  s = torchaudio.io.StreamWriter(uri, format=muxer, buffer_size=buffer_size)\n"
          ]
        }
      ]
    },
    {
      "cell_type": "code",
      "source": [
        "! python.exe -m pip install diffq"
      ],
      "metadata": {
        "colab": {
          "base_uri": "https://localhost:8080/"
        },
        "id": "6Q-7JzxdI7Vo",
        "outputId": "a21c5b81-8c16-491f-c096-ff5818f0a8a6"
      },
      "execution_count": 6,
      "outputs": [
        {
          "output_type": "stream",
          "name": "stdout",
          "text": [
            "/bin/bash: line 1: python.exe: command not found\n"
          ]
        }
      ]
    },
    {
      "cell_type": "code",
      "source": [
        " pip install diffq"
      ],
      "metadata": {
        "colab": {
          "base_uri": "https://localhost:8080/"
        },
        "id": "QCLlcan-JCve",
        "outputId": "95c3945d-73d9-4116-a097-79bf46fa23d3"
      },
      "execution_count": 7,
      "outputs": [
        {
          "output_type": "stream",
          "name": "stdout",
          "text": [
            "Requirement already satisfied: diffq in /usr/local/lib/python3.12/dist-packages (0.2.4)\n",
            "Requirement already satisfied: Cython in /usr/local/lib/python3.12/dist-packages (from diffq) (3.0.12)\n",
            "Requirement already satisfied: numpy in /usr/local/lib/python3.12/dist-packages (from diffq) (2.0.2)\n",
            "Requirement already satisfied: torch in /usr/local/lib/python3.12/dist-packages (from diffq) (2.8.0+cu126)\n",
            "Requirement already satisfied: filelock in /usr/local/lib/python3.12/dist-packages (from torch->diffq) (3.19.1)\n",
            "Requirement already satisfied: typing-extensions>=4.10.0 in /usr/local/lib/python3.12/dist-packages (from torch->diffq) (4.14.1)\n",
            "Requirement already satisfied: setuptools in /usr/local/lib/python3.12/dist-packages (from torch->diffq) (75.2.0)\n",
            "Requirement already satisfied: sympy>=1.13.3 in /usr/local/lib/python3.12/dist-packages (from torch->diffq) (1.13.3)\n",
            "Requirement already satisfied: networkx in /usr/local/lib/python3.12/dist-packages (from torch->diffq) (3.5)\n",
            "Requirement already satisfied: jinja2 in /usr/local/lib/python3.12/dist-packages (from torch->diffq) (3.1.6)\n",
            "Requirement already satisfied: fsspec in /usr/local/lib/python3.12/dist-packages (from torch->diffq) (2025.3.0)\n",
            "Requirement already satisfied: nvidia-cuda-nvrtc-cu12==12.6.77 in /usr/local/lib/python3.12/dist-packages (from torch->diffq) (12.6.77)\n",
            "Requirement already satisfied: nvidia-cuda-runtime-cu12==12.6.77 in /usr/local/lib/python3.12/dist-packages (from torch->diffq) (12.6.77)\n",
            "Requirement already satisfied: nvidia-cuda-cupti-cu12==12.6.80 in /usr/local/lib/python3.12/dist-packages (from torch->diffq) (12.6.80)\n",
            "Requirement already satisfied: nvidia-cudnn-cu12==9.10.2.21 in /usr/local/lib/python3.12/dist-packages (from torch->diffq) (9.10.2.21)\n",
            "Requirement already satisfied: nvidia-cublas-cu12==12.6.4.1 in /usr/local/lib/python3.12/dist-packages (from torch->diffq) (12.6.4.1)\n",
            "Requirement already satisfied: nvidia-cufft-cu12==11.3.0.4 in /usr/local/lib/python3.12/dist-packages (from torch->diffq) (11.3.0.4)\n",
            "Requirement already satisfied: nvidia-curand-cu12==10.3.7.77 in /usr/local/lib/python3.12/dist-packages (from torch->diffq) (10.3.7.77)\n",
            "Requirement already satisfied: nvidia-cusolver-cu12==11.7.1.2 in /usr/local/lib/python3.12/dist-packages (from torch->diffq) (11.7.1.2)\n",
            "Requirement already satisfied: nvidia-cusparse-cu12==12.5.4.2 in /usr/local/lib/python3.12/dist-packages (from torch->diffq) (12.5.4.2)\n",
            "Requirement already satisfied: nvidia-cusparselt-cu12==0.7.1 in /usr/local/lib/python3.12/dist-packages (from torch->diffq) (0.7.1)\n",
            "Requirement already satisfied: nvidia-nccl-cu12==2.27.3 in /usr/local/lib/python3.12/dist-packages (from torch->diffq) (2.27.3)\n",
            "Requirement already satisfied: nvidia-nvtx-cu12==12.6.77 in /usr/local/lib/python3.12/dist-packages (from torch->diffq) (12.6.77)\n",
            "Requirement already satisfied: nvidia-nvjitlink-cu12==12.6.85 in /usr/local/lib/python3.12/dist-packages (from torch->diffq) (12.6.85)\n",
            "Requirement already satisfied: nvidia-cufile-cu12==1.11.1.6 in /usr/local/lib/python3.12/dist-packages (from torch->diffq) (1.11.1.6)\n",
            "Requirement already satisfied: triton==3.4.0 in /usr/local/lib/python3.12/dist-packages (from torch->diffq) (3.4.0)\n",
            "Requirement already satisfied: mpmath<1.4,>=1.1.0 in /usr/local/lib/python3.12/dist-packages (from sympy>=1.13.3->torch->diffq) (1.3.0)\n",
            "Requirement already satisfied: MarkupSafe>=2.0 in /usr/local/lib/python3.12/dist-packages (from jinja2->torch->diffq) (3.0.2)\n"
          ]
        }
      ]
    },
    {
      "cell_type": "code",
      "source": [
        "!demucs -n mdx_extra_q -o /content/separated \"/content/output/s03e129_ixPjVR0U_a1_jpn_2.0_Opus_Japanese.m4a\""
      ],
      "metadata": {
        "colab": {
          "base_uri": "https://localhost:8080/"
        },
        "id": "IDMtLQ-dJEnv",
        "outputId": "20fde30d-d999-4b6c-c2b9-07ce6d5e6726"
      },
      "execution_count": 8,
      "outputs": [
        {
          "output_type": "stream",
          "name": "stdout",
          "text": [
            "Selected model is a bag of 4 models. You will see that many progress bars per track.\n",
            "Separated tracks will be stored in /content/separated/mdx_extra_q\n",
            "Separating track /content/output/s03e129_ixPjVR0U_a1_jpn_2.0_Opus_Japanese.m4a\n",
            "100%|████████████████████████████████████████████████████████████████████████| 165.0/165.0 [00:03<00:00, 43.12seconds/s]\n",
            "100%|████████████████████████████████████████████████████████████████████████| 165.0/165.0 [00:03<00:00, 46.92seconds/s]\n",
            "100%|████████████████████████████████████████████████████████████████████████| 165.0/165.0 [00:03<00:00, 47.53seconds/s]\n",
            "100%|████████████████████████████████████████████████████████████████████████| 165.0/165.0 [00:03<00:00, 49.23seconds/s]\n",
            "/usr/local/lib/python3.12/dist-packages/torchaudio/_backend/utils.py:337: UserWarning: In 2.9, this function's implementation will be changed to use torchaudio.save_with_torchcodec` under the hood. Some parameters like format, encoding, bits_per_sample, buffer_size, and ``backend`` will be ignored. We recommend that you port your code to rely directly on TorchCodec's encoder instead: https://docs.pytorch.org/torchcodec/stable/generated/torchcodec.encoders.AudioEncoder\n",
            "  warnings.warn(\n",
            "/usr/local/lib/python3.12/dist-packages/torchaudio/_backend/ffmpeg.py:247: UserWarning: torio.io._streaming_media_encoder.StreamingMediaEncoder has been deprecated. This deprecation is part of a large refactoring effort to transition TorchAudio into a maintenance phase. The decoding and encoding capabilities of PyTorch for both audio and video are being consolidated into TorchCodec. Please see https://github.com/pytorch/audio/issues/3902 for more information. It will be removed from the 2.9 release. \n",
            "  s = torchaudio.io.StreamWriter(uri, format=muxer, buffer_size=buffer_size)\n"
          ]
        }
      ]
    },
    {
      "cell_type": "code",
      "source": [
        "!pip install ipdb"
      ],
      "metadata": {
        "colab": {
          "base_uri": "https://localhost:8080/"
        },
        "id": "0JHOsJXKbDIg",
        "outputId": "94487fe7-629b-43e9-8e83-9cb551f1d775"
      },
      "execution_count": 9,
      "outputs": [
        {
          "output_type": "stream",
          "name": "stdout",
          "text": [
            "Requirement already satisfied: ipdb in /usr/local/lib/python3.12/dist-packages (0.13.13)\n",
            "Requirement already satisfied: ipython>=7.31.1 in /usr/local/lib/python3.12/dist-packages (from ipdb) (7.34.0)\n",
            "Requirement already satisfied: decorator in /usr/local/lib/python3.12/dist-packages (from ipdb) (4.4.2)\n",
            "Requirement already satisfied: setuptools>=18.5 in /usr/local/lib/python3.12/dist-packages (from ipython>=7.31.1->ipdb) (75.2.0)\n",
            "Requirement already satisfied: jedi>=0.16 in /usr/local/lib/python3.12/dist-packages (from ipython>=7.31.1->ipdb) (0.19.2)\n",
            "Requirement already satisfied: pickleshare in /usr/local/lib/python3.12/dist-packages (from ipython>=7.31.1->ipdb) (0.7.5)\n",
            "Requirement already satisfied: traitlets>=4.2 in /usr/local/lib/python3.12/dist-packages (from ipython>=7.31.1->ipdb) (5.7.1)\n",
            "Requirement already satisfied: prompt-toolkit!=3.0.0,!=3.0.1,<3.1.0,>=2.0.0 in /usr/local/lib/python3.12/dist-packages (from ipython>=7.31.1->ipdb) (3.0.51)\n",
            "Requirement already satisfied: pygments in /usr/local/lib/python3.12/dist-packages (from ipython>=7.31.1->ipdb) (2.19.2)\n",
            "Requirement already satisfied: backcall in /usr/local/lib/python3.12/dist-packages (from ipython>=7.31.1->ipdb) (0.2.0)\n",
            "Requirement already satisfied: matplotlib-inline in /usr/local/lib/python3.12/dist-packages (from ipython>=7.31.1->ipdb) (0.1.7)\n",
            "Requirement already satisfied: pexpect>4.3 in /usr/local/lib/python3.12/dist-packages (from ipython>=7.31.1->ipdb) (4.9.0)\n",
            "Requirement already satisfied: parso<0.9.0,>=0.8.4 in /usr/local/lib/python3.12/dist-packages (from jedi>=0.16->ipython>=7.31.1->ipdb) (0.8.4)\n",
            "Requirement already satisfied: ptyprocess>=0.5 in /usr/local/lib/python3.12/dist-packages (from pexpect>4.3->ipython>=7.31.1->ipdb) (0.7.0)\n",
            "Requirement already satisfied: wcwidth in /usr/local/lib/python3.12/dist-packages (from prompt-toolkit!=3.0.0,!=3.0.1,<3.1.0,>=2.0.0->ipython>=7.31.1->ipdb) (0.2.13)\n"
          ]
        }
      ]
    },
    {
      "cell_type": "code",
      "source": [
        "# =============== 0) Install ===============\n",
        "!apt -y install ffmpeg\n",
        "!pip -q install -U faster-whisper speechbrain webrtcvad torchaudio librosa soundfile pandas scikit-learn\n",
        "\n",
        "# =============== 1) Config ===============\n",
        "AUDIO_IN = \"/content/separated/mdx_extra_q/s03e129_ixPjVR0U_a1_jpn_2.0_Opus_Japanese/vocals.wav\"   # <-- yahan apni file ka path dein (.wav/.m4a/.mp3 bhi chalega)\n",
        "WHISPER_MODEL = \"medium\"           # \"small\" (fast), \"medium\" (better), \"large-v3\" (best, slow)\n",
        "AUTO_SPEAKERS = True               # True => auto cluster; False => fix speakers = N_SPEAKERS\n",
        "N_SPEAKERS = 2                     # used when AUTO_SPEAKERS=False\n",
        "SAVE_SRT = True                    # subtitles export karne hain to True\n",
        "ADD_ENGLISH_TRANSLATION = False    # agar SRT me JP + EN chahiye to True karein\n",
        "\n",
        "# =============== 2) Imports & device ===============\n",
        "import os, math, uuid, sqlite3, numpy as np, soundfile as sf\n",
        "import torch, torchaudio, librosa, webrtcvad\n",
        "from sklearn.cluster import AgglomerativeClustering\n",
        "from speechbrain.pretrained import EncoderClassifier\n",
        "from faster_whisper import WhisperModel\n",
        "import pandas as pd\n",
        "\n",
        "device = \"cuda\" if torch.cuda.is_available() else \"cpu\"\n",
        "print(\"Device:\", device)\n",
        "\n",
        "# =============== 3) Load audio mono @16k ===============\n",
        "wav, sr0 = torchaudio.load(AUDIO_IN)\n",
        "if wav.shape[0] > 1:\n",
        "    wav = torch.mean(wav, dim=0, keepdim=True)  # mono\n",
        "wav = torchaudio.functional.resample(wav, orig_freq=sr0, new_freq=16000)\n",
        "sr = 16000\n",
        "wav = wav.squeeze(0)           # [T]\n",
        "wav_np = wav.cpu().numpy()     # float32 in [-1,1]\n",
        "duration_sec = len(wav_np)/sr\n",
        "print(f\"Loaded: {AUDIO_IN} | {duration_sec:.1f}s @ {sr}Hz\")\n",
        "\n",
        "# =============== 4) WebRTC VAD -> speech segments ===============\n",
        "vad = webrtcvad.Vad(3)  # 0..3 (3 = most aggressive)\n",
        "pcm16 = (np.clip(wav_np, -1.0, 1.0) * 32768).astype(np.int16)\n",
        "\n",
        "frame_len = int(0.03 * sr)  # 30 ms frames\n",
        "segments = []\n",
        "start = None\n",
        "for i in range(0, len(pcm16) - frame_len + 1, frame_len):\n",
        "    is_speech = vad.is_speech(pcm16[i:i+frame_len].tobytes(), sr)\n",
        "    if is_speech and start is None:\n",
        "        start = i\n",
        "    elif not is_speech and start is not None:\n",
        "        segments.append((start/sr, i/sr))\n",
        "        start = None\n",
        "if start is not None:\n",
        "    segments.append((start/sr, len(pcm16)/sr))\n",
        "\n",
        "# merge tiny gaps (<0.30s) & drop short (<0.25s)\n",
        "merged = []\n",
        "for s, e in segments:\n",
        "    if not merged: merged.append([s, e])\n",
        "    else:\n",
        "        if s - merged[-1][1] < 0.30:\n",
        "            merged[-1][1] = e\n",
        "        else:\n",
        "            merged.append([s, e])\n",
        "speech_segments = [(s, e) for s, e in merged if (e - s) >= 0.25]\n",
        "if not speech_segments:\n",
        "    raise SystemExit(\"No speech detected. Try lowering VAD strictness or check audio.\")\n",
        "print(f\"Speech segments: {len(speech_segments)}\")\n",
        "\n",
        "# =============== 5) Speaker embeddings + clustering ===============\n",
        "spk_embedder = EncoderClassifier.from_hparams(\n",
        "    source=\"speechbrain/spkrec-ecapa-voxceleb\",\n",
        "    run_opts={\"device\": device}\n",
        ")\n",
        "\n",
        "embs = []\n",
        "for (s, e) in speech_segments:\n",
        "    si, ei = int(s*sr), int(e*sr)\n",
        "    chunk = torch.from_numpy(wav_np[si:ei]).unsqueeze(0).to(device)  # [1, T]\n",
        "    with torch.no_grad():\n",
        "        emb = spk_embedder.encode_batch(chunk).squeeze(0).squeeze(0).cpu().numpy()\n",
        "    embs.append(emb)\n",
        "embs = np.vstack(embs)\n",
        "\n",
        "if AUTO_SPEAKERS:\n",
        "    clust = AgglomerativeClustering(metric=\"cosine\", linkage=\"average\",\n",
        "                                    distance_threshold=0.7, n_clusters=None)\n",
        "else:\n",
        "    clust = AgglomerativeClustering(metric=\"cosine\", linkage=\"average\",\n",
        "                                    n_clusters=N_SPEAKERS)\n",
        "labels = clust.fit_predict(embs)\n",
        "uniq = sorted(np.unique(labels).tolist())\n",
        "person_map = {lab: f\"Person {i+1}\" for i, lab in enumerate(uniq)}\n",
        "\n",
        "dia_segments = [{\"start\": s, \"end\": e, \"person\": person_map[l]}\n",
        "                for (s, e), l in zip(speech_segments, labels)]\n",
        "print(\"Speakers:\", sorted(set(d[\"person\"] for d in dia_segments)))\n",
        "\n",
        "# =============== 6) Intensity via RMS (soft/normal/loud) ===============\n",
        "frame_length_rms = 2048\n",
        "hop_length_rms = 512\n",
        "rms = librosa.feature.rms(y=wav_np, frame_length=frame_length_rms, hop_length=hop_length_rms)[0]\n",
        "times = librosa.frames_to_time(np.arange(len(rms)), sr=sr, hop_length=hop_length_rms)\n",
        "p30, p70 = np.percentile(rms, 30), np.percentile(rms, 70)\n",
        "\n",
        "def intensity_at(t):\n",
        "    idx = int(np.clip(np.argmin(np.abs(times - t)), 0, len(rms)-1))\n",
        "    val = float(rms[idx])\n",
        "    if val <= p30: return \"soft\"\n",
        "    elif val <= p70: return \"normal\"\n",
        "    else: return \"loud\"\n",
        "\n",
        "# =============== 7) Japanese STT (faster-whisper) ===============\n",
        "compute_type = \"float16\" if device == \"cuda\" else \"int8\"\n",
        "whisper = WhisperModel(WHISPER_MODEL, device=device, compute_type=compute_type)\n",
        "\n",
        "stt_segments = []\n",
        "gen_segments, info = whisper.transcribe(\n",
        "    AUDIO_IN,\n",
        "    language=\"ja\",      # force Japanese (omit to auto-detect)\n",
        "    beam_size=5,\n",
        "    vad_filter=True\n",
        ")\n",
        "for seg in gen_segments:\n",
        "    stt_segments.append({\"start\": float(seg.start), \"end\": float(seg.end), \"text_ja\": seg.text.strip()})\n",
        "print(\"STT segments:\", len(stt_segments))\n",
        "\n",
        "# map STT segment -> speaker (by midpoint; fallback = max overlap)\n",
        "def find_person(t0, t1):\n",
        "    mid = 0.5*(t0 + t1)\n",
        "    for d in dia_segments:\n",
        "        if d[\"start\"] <= mid <= d[\"end\"]:\n",
        "            return d[\"person\"]\n",
        "    best, best_ov = None, 0.0\n",
        "    for d in dia_segments:\n",
        "        ov = max(0.0, min(t1, d[\"end\"]) - max(t0, d[\"start\"]))\n",
        "        if ov > best_ov:\n",
        "            best, best_ov = d[\"person\"], ov\n",
        "    return best or \"Person ?\"\n",
        "\n",
        "# =============== 8) Emotion (SpeechBrain IEMOCAP) ===============\n",
        "emo_cls = EncoderClassifier.from_hparams(\n",
        "    source=\"speechbrain/emotion-recognition-wav2vec2-IEMOCAP\",\n",
        "    run_opts={\"device\": device}\n",
        ")\n",
        "tmp_dir = \"/content/_emo_tmp\"; os.makedirs(tmp_dir, exist_ok=True)\n",
        "\n",
        "def emotion_of(s, e):\n",
        "    # ensure >=0.5s window for stability (pad if needed)\n",
        "    if e - s < 0.5:\n",
        "        pad = (0.5 - (e - s)) / 2\n",
        "        s = max(0.0, s - pad); e = min(len(wav_np)/sr, e + pad)\n",
        "    si, ei = int(s*sr), int(e*sr)\n",
        "    seg_np = wav_np[si:ei]\n",
        "    tmp = os.path.join(tmp_dir, f\"{uuid.uuid4().hex}.wav\")\n",
        "    sf.write(tmp, seg_np, sr)\n",
        "    try:\n",
        "        _, _, _, labels = emo_cls.classify_file(tmp)  # top-1 label\n",
        "        emo = labels[0]\n",
        "    except Exception:\n",
        "        emo = \"neutral\"\n",
        "    try:\n",
        "        os.remove(tmp)\n",
        "    except Exception:\n",
        "        pass\n",
        "    return emo\n",
        "\n",
        "# =============== 9) Build DataFrame ===============\n",
        "rows = []\n",
        "for s in stt_segments:\n",
        "    person = find_person(s[\"start\"], s[\"end\"])\n",
        "    inten = intensity_at(0.5*(s[\"start\"] + s[\"end\"]))\n",
        "    emo = emotion_of(s[\"start\"], s[\"end\"])\n",
        "    rows.append({\n",
        "        \"person\": person,\n",
        "        \"start\": round(s[\"start\"], 2),\n",
        "        \"end\": round(s[\"end\"], 2),\n",
        "        \"intensity\": inten,\n",
        "        \"emotion\": emo,\n",
        "        \"text_ja\": s[\"text_ja\"]\n",
        "    })\n",
        "\n",
        "df = pd.DataFrame(rows, columns=[\"person\",\"start\",\"end\",\"intensity\",\"emotion\",\"text_ja\"])\n",
        "display(df.head(15))\n",
        "print(f\"Rows: {len(df)}\")\n",
        "\n",
        "# =============== 10) Save CSV + SQLite (+ optional SRT) ===============\n",
        "base = os.path.splitext(os.path.basename(AUDIO_IN))[0]\n",
        "csv_path = f\"/content/{base}_ja_diarized.csv\"\n",
        "db_path  = f\"/content/{base}.db\"\n",
        "\n",
        "df.to_csv(csv_path, index=False, encoding=\"utf-8-sig\")\n",
        "conn = sqlite3.connect(db_path); df.to_sql(\"transcript\", conn, if_exists=\"replace\", index=False); conn.close()\n",
        "\n",
        "print(\"Saved CSV:\", csv_path)\n",
        "print(\"Saved SQLite DB (table: transcript):\", db_path)\n",
        "\n",
        "def ts_srt(t):\n",
        "    h = int(t // 3600); m = int((t % 3600) // 60); s = int(t % 60)\n",
        "    ms = int((t - math.floor(t)) * 1000)\n",
        "    return f\"{h:02d}:{m:02d}:{s:02d},{ms:03d}\"\n",
        "\n",
        "if SAVE_SRT:\n",
        "    srt_path = f\"/content/{base}_ja_diarized.srt\"\n",
        "    with open(srt_path, \"w\", encoding=\"utf-8\") as f:\n",
        "        for i, r in enumerate(rows, 1):\n",
        "            f.write(str(i) + \"\\n\")\n",
        "            f.write(f\"{ts_srt(r['start'])} --> {ts_srt(r['end'])}\\n\")\n",
        "            line = f\"{r['person']} [{r['intensity']}, {r['emotion']}]: {r['text_ja']}\"\n",
        "            if ADD_ENGLISH_TRANSLATION:\n",
        "                # lightweight inline JP->EN using whisper \"translate\" for the same chunk window\n",
        "                # NOTE: this calls model again; keep off unless needed\n",
        "                t0, t1 = r['start'], r['end']\n",
        "                seg_audio = wav_np[int(t0*sr):int(t1*sr)]\n",
        "                seg_path = f\"/content/_seg_{i}.wav\"\n",
        "                sf.write(seg_path, seg_audio, sr)\n",
        "                trans_en, _ = whisper.transcribe(seg_path, task=\"translate\", language=\"ja\", beam_size=5)\n",
        "                os.remove(seg_path)\n",
        "                line += f\"\\n{r['person']} [EN]: {trans_en.text.strip()}\"\n",
        "            f.write(line + \"\\n\\n\")\n",
        "    print(\"Saved SRT:\", srt_path)\n"
      ],
      "metadata": {
        "colab": {
          "base_uri": "https://localhost:8080/"
        },
        "id": "74Yw1QeJa6Z_",
        "outputId": "2a57c56b-91bd-415e-d0b0-5f6cc82112a0"
      },
      "execution_count": null,
      "outputs": [
        {
          "output_type": "stream",
          "name": "stdout",
          "text": [
            "Reading package lists... Done\n",
            "Building dependency tree... Done\n",
            "Reading state information... Done\n",
            "ffmpeg is already the newest version (7:4.4.2-0ubuntu0.22.04.1).\n",
            "0 upgraded, 0 newly installed, 0 to remove and 35 not upgraded.\n"
          ]
        },
        {
          "output_type": "stream",
          "name": "stderr",
          "text": [
            "/usr/local/lib/python3.12/dist-packages/speechbrain/utils/torch_audio_backend.py:57: UserWarning: torchaudio._backend.list_audio_backends has been deprecated. This deprecation is part of a large refactoring effort to transition TorchAudio into a maintenance phase. The decoding and encoding capabilities of PyTorch for both audio and video are being consolidated into TorchCodec. Please see https://github.com/pytorch/audio/issues/3902 for more information. It will be removed from the 2.9 release. \n",
            "  available_backends = torchaudio.list_audio_backends()\n",
            "DEBUG:speechbrain.utils.checkpoints:Registered checkpoint save hook for _speechbrain_save\n",
            "DEBUG:speechbrain.utils.checkpoints:Registered checkpoint load hook for _speechbrain_load\n",
            "DEBUG:speechbrain.utils.checkpoints:Registered checkpoint save hook for save\n",
            "DEBUG:speechbrain.utils.checkpoints:Registered checkpoint load hook for load\n",
            "DEBUG:speechbrain.utils.checkpoints:Registered checkpoint save hook for _save\n",
            "DEBUG:speechbrain.utils.checkpoints:Registered checkpoint load hook for _recover\n",
            "/tmp/ipython-input-2698804194.py:17: UserWarning: Module 'speechbrain.pretrained' was deprecated, redirecting to 'speechbrain.inference'. Please update your script. This is a change from SpeechBrain 1.0. See: https://github.com/speechbrain/speechbrain/releases/tag/v1.0.0\n",
            "  from speechbrain.pretrained import EncoderClassifier\n"
          ]
        },
        {
          "output_type": "stream",
          "name": "stdout",
          "text": [
            "Device: cuda\n"
          ]
        },
        {
          "output_type": "stream",
          "name": "stderr",
          "text": [
            "/usr/local/lib/python3.12/dist-packages/torchaudio/_backend/utils.py:213: UserWarning: In 2.9, this function's implementation will be changed to use torchaudio.load_with_torchcodec` under the hood. Some parameters like ``normalize``, ``format``, ``buffer_size``, and ``backend`` will be ignored. We recommend that you port your code to rely directly on TorchCodec's decoder instead: https://docs.pytorch.org/torchcodec/stable/generated/torchcodec.decoders.AudioDecoder.html#torchcodec.decoders.AudioDecoder.\n",
            "  warnings.warn(\n",
            "/usr/local/lib/python3.12/dist-packages/torchaudio/_backend/ffmpeg.py:88: UserWarning: torio.io._streaming_media_decoder.StreamingMediaDecoder has been deprecated. This deprecation is part of a large refactoring effort to transition TorchAudio into a maintenance phase. The decoding and encoding capabilities of PyTorch for both audio and video are being consolidated into TorchCodec. Please see https://github.com/pytorch/audio/issues/3902 for more information. It will be removed from the 2.9 release. \n",
            "  s = torchaudio.io.StreamReader(src, format, None, buffer_size)\n",
            "INFO:speechbrain.utils.fetching:Fetch hyperparams.yaml: Fetching from HuggingFace Hub 'speechbrain/spkrec-ecapa-voxceleb' if not cached\n",
            "INFO:speechbrain.utils.fetching:Fetch custom.py: Fetching from HuggingFace Hub 'speechbrain/spkrec-ecapa-voxceleb' if not cached\n"
          ]
        },
        {
          "output_type": "stream",
          "name": "stdout",
          "text": [
            "Loaded: /content/separated/mdx_extra_q/s03e129_ixPjVR0U_a1_jpn_2.0_Opus_Japanese/vocals.wav | 136.4s @ 16000Hz\n",
            "Speech segments: 33\n"
          ]
        },
        {
          "output_type": "stream",
          "name": "stderr",
          "text": [
            "/usr/local/lib/python3.12/dist-packages/speechbrain/utils/torch_audio_backend.py:57: UserWarning: torchaudio._backend.list_audio_backends has been deprecated. This deprecation is part of a large refactoring effort to transition TorchAudio into a maintenance phase. The decoding and encoding capabilities of PyTorch for both audio and video are being consolidated into TorchCodec. Please see https://github.com/pytorch/audio/issues/3902 for more information. It will be removed from the 2.9 release. \n",
            "  available_backends = torchaudio.list_audio_backends()\n",
            "DEBUG:speechbrain.utils.checkpoints:Registered checkpoint save hook for _save\n",
            "DEBUG:speechbrain.utils.checkpoints:Registered checkpoint load hook for _load\n",
            "DEBUG:speechbrain.utils.checkpoints:Registered parameter transfer hook for _load\n",
            "/usr/local/lib/python3.12/dist-packages/speechbrain/utils/autocast.py:188: FutureWarning: `torch.cuda.amp.custom_fwd(args...)` is deprecated. Please use `torch.amp.custom_fwd(args..., device_type='cuda')` instead.\n",
            "  wrapped_fwd = torch.cuda.amp.custom_fwd(fwd, cast_inputs=cast_inputs)\n",
            "DEBUG:speechbrain.utils.checkpoints:Registered checkpoint save hook for save\n",
            "DEBUG:speechbrain.utils.checkpoints:Registered checkpoint load hook for load_if_possible\n",
            "DEBUG:speechbrain.utils.parameter_transfer:Fetching files for pretraining (no collection directory set)\n",
            "INFO:speechbrain.utils.fetching:Fetch embedding_model.ckpt: Fetching from HuggingFace Hub 'speechbrain/spkrec-ecapa-voxceleb' if not cached\n",
            "DEBUG:speechbrain.utils.parameter_transfer:Set local path in self.paths[\"embedding_model\"] = /root/.cache/huggingface/hub/models--speechbrain--spkrec-ecapa-voxceleb/snapshots/0f99f2d0ebe89ac095bcc5903c4dd8f72b367286/embedding_model.ckpt\n",
            "INFO:speechbrain.utils.fetching:Fetch mean_var_norm_emb.ckpt: Fetching from HuggingFace Hub 'speechbrain/spkrec-ecapa-voxceleb' if not cached\n",
            "DEBUG:speechbrain.utils.parameter_transfer:Set local path in self.paths[\"mean_var_norm_emb\"] = /root/.cache/huggingface/hub/models--speechbrain--spkrec-ecapa-voxceleb/snapshots/0f99f2d0ebe89ac095bcc5903c4dd8f72b367286/mean_var_norm_emb.ckpt\n",
            "INFO:speechbrain.utils.fetching:Fetch classifier.ckpt: Fetching from HuggingFace Hub 'speechbrain/spkrec-ecapa-voxceleb' if not cached\n",
            "DEBUG:speechbrain.utils.parameter_transfer:Set local path in self.paths[\"classifier\"] = /root/.cache/huggingface/hub/models--speechbrain--spkrec-ecapa-voxceleb/snapshots/0f99f2d0ebe89ac095bcc5903c4dd8f72b367286/classifier.ckpt\n",
            "INFO:speechbrain.utils.fetching:Fetch label_encoder.txt: Fetching from HuggingFace Hub 'speechbrain/spkrec-ecapa-voxceleb' if not cached\n",
            "DEBUG:speechbrain.utils.parameter_transfer:Set local path in self.paths[\"label_encoder\"] = /root/.cache/huggingface/hub/models--speechbrain--spkrec-ecapa-voxceleb/snapshots/0f99f2d0ebe89ac095bcc5903c4dd8f72b367286/label_encoder.txt\n",
            "INFO:speechbrain.utils.parameter_transfer:Loading pretrained files for: embedding_model, mean_var_norm_emb, classifier, label_encoder\n",
            "DEBUG:speechbrain.utils.parameter_transfer:Redirecting (loading from local path): embedding_model -> /root/.cache/huggingface/hub/models--speechbrain--spkrec-ecapa-voxceleb/snapshots/0f99f2d0ebe89ac095bcc5903c4dd8f72b367286/embedding_model.ckpt\n",
            "DEBUG:speechbrain.utils.parameter_transfer:Redirecting (loading from local path): mean_var_norm_emb -> /root/.cache/huggingface/hub/models--speechbrain--spkrec-ecapa-voxceleb/snapshots/0f99f2d0ebe89ac095bcc5903c4dd8f72b367286/mean_var_norm_emb.ckpt\n",
            "DEBUG:speechbrain.utils.parameter_transfer:Redirecting (loading from local path): classifier -> /root/.cache/huggingface/hub/models--speechbrain--spkrec-ecapa-voxceleb/snapshots/0f99f2d0ebe89ac095bcc5903c4dd8f72b367286/classifier.ckpt\n",
            "DEBUG:speechbrain.utils.parameter_transfer:Redirecting (loading from local path): label_encoder -> /root/.cache/huggingface/hub/models--speechbrain--spkrec-ecapa-voxceleb/snapshots/0f99f2d0ebe89ac095bcc5903c4dd8f72b367286/label_encoder.txt\n",
            "DEBUG:speechbrain.dataio.encoder:Loaded categorical encoding from /root/.cache/huggingface/hub/models--speechbrain--spkrec-ecapa-voxceleb/snapshots/0f99f2d0ebe89ac095bcc5903c4dd8f72b367286/label_encoder.txt\n"
          ]
        },
        {
          "output_type": "stream",
          "name": "stdout",
          "text": [
            "Speakers: ['Person 1', 'Person 2', 'Person 3', 'Person 4', 'Person 5', 'Person 6', 'Person 7', 'Person 8', 'Person 9']\n"
          ]
        },
        {
          "output_type": "stream",
          "name": "stderr",
          "text": [
            "/usr/local/lib/python3.12/dist-packages/huggingface_hub/utils/_auth.py:94: UserWarning: \n",
            "The secret `HF_TOKEN` does not exist in your Colab secrets.\n",
            "To authenticate with the Hugging Face Hub, create a token in your settings tab (https://huggingface.co/settings/tokens), set it as secret in your Google Colab and restart your session.\n",
            "You will be able to reuse this secret in all of your notebooks.\n",
            "Please note that authentication is recommended but still optional to access public models or datasets.\n",
            "  warnings.warn(\n"
          ]
        }
      ]
    },
    {
      "cell_type": "code",
      "source": [],
      "metadata": {
        "id": "mIXzr2GEc-9x"
      },
      "execution_count": null,
      "outputs": []
    }
  ]
}